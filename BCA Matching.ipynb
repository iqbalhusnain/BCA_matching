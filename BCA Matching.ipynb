{
 "cells": [
  {
   "cell_type": "code",
   "execution_count": 289,
   "metadata": {},
   "outputs": [],
   "source": [
    "import pandas as pd \n",
    "import numpy as np\n",
    "\n",
    "#Reading Cases\n",
    "\n",
    "FBL13= pd.read_excel(r'C:\\Users\\husnain110551\\Desktop\\Review\\RC\\FBL-38.xlsm',header=1,sheet_name='BRD')\n",
    "HBL134= pd.read_excel(r'C:\\Users\\husnain110551\\Desktop\\Review\\RC\\HBL-134.xlsm',header=1,sheet_name='BRD')\n",
    "MBL61= pd.read_excel(r'C:\\Users\\husnain110551\\Desktop\\Review\\RC\\MBL-61.xlsm',header=1,sheet_name='BRD')\n",
    "HMB69 = pd.read_excel(r'C:\\Users\\husnain110551\\Desktop\\Review\\RC\\HMB-69.xlsm',header=1,sheet_name='BRD')\n",
    "#Combining cases\n",
    "all_cases = pd.concat((FBL13,HBL134,MBL61,HMB69),axis=0)\n",
    "#Reading Rates\n",
    "rates = pd.read_excel(r'C:\\Users\\husnain110551\\Desktop\\Review\\RC\\Rates.xlsx') "
   ]
  },
  {
   "cell_type": "code",
   "execution_count": 290,
   "metadata": {},
   "outputs": [],
   "source": [
    "#Reading BCA\n",
    "BCAFBL13= pd.read_excel(r'C:\\Users\\husnain110551\\Desktop\\Review\\RC\\FBL-38.xlsm',header=0,sheet_name='BCA')\n",
    "BCAHBL134= pd.read_excel(r'C:\\Users\\husnain110551\\Desktop\\Review\\RC\\HBL-134.xlsm',header=0,sheet_name='BCA')\n",
    "BCAMBL61= pd.read_excel(r'C:\\Users\\husnain110551\\Desktop\\Review\\RC\\MBL-61.xlsm',header=0,sheet_name='BCA')\n",
    "BCAHMB69 = pd.read_excel(r'C:\\Users\\husnain110551\\Desktop\\Review\\RC\\HMB-69.xlsm',header=0,sheet_name='BCA')\n",
    "#Combining BCA\n",
    "all_bca = pd.concat((BCAFBL13,BCAHBL134,BCAMBL61,BCAHMB69),axis=0,sort=True)"
   ]
  },
  {
   "cell_type": "code",
   "execution_count": 291,
   "metadata": {},
   "outputs": [],
   "source": [
    "#melting df(Rates)\n",
    "melted_rates = (rates.melt('Realization Date', var_name='Currency', value_name='SBP DMMD WAR'))"
   ]
  },
  {
   "cell_type": "code",
   "execution_count": 292,
   "metadata": {},
   "outputs": [],
   "source": [
    "#Return Rates\n",
    "rates_data = pd.merge(all_cases,melted_rates,on=('Realization Date','Currency'),how='left')"
   ]
  },
  {
   "cell_type": "code",
   "execution_count": 293,
   "metadata": {},
   "outputs": [],
   "source": [
    "#Removing duplicates from BCA\n",
    "all_bca.drop_duplicates(keep='first',inplace=True)"
   ]
  },
  {
   "cell_type": "code",
   "execution_count": 294,
   "metadata": {},
   "outputs": [],
   "source": [
    "#renaming column (DOR)\n",
    "all_bca.rename(columns={'Date Of Realization':'Realization Date'}, inplace=True)"
   ]
  },
  {
   "cell_type": "code",
   "execution_count": 295,
   "metadata": {},
   "outputs": [],
   "source": [
    "#renaming column (EFE)\n",
    "all_bca.rename(columns={'EFE Number':'EFE / Manual E-Form / Gate Pass No.'}, inplace=True)"
   ]
  },
  {
   "cell_type": "code",
   "execution_count": 296,
   "metadata": {},
   "outputs": [],
   "source": [
    "#Merging  all_cases with selected columns of bca to cross check DOR based on EFE\n",
    "cross = all_cases.merge(all_bca[['EFE / Manual E-Form / Gate Pass No.','Realization Date',\"BCA(FC)\",'Foreign Bank Charges','Agent/Brokerage Commision']],how='left',on=('EFE / Manual E-Form / Gate Pass No.','Realization Date'),indicator=\"BCA Availability\")"
   ]
  },
  {
   "cell_type": "code",
   "execution_count": 297,
   "metadata": {},
   "outputs": [],
   "source": [
    "#Dropping duplicates from CASES and BCA merger.\n",
    "cross.drop_duplicates(subset='Sr.',keep='first',inplace=True)"
   ]
  },
  {
   "cell_type": "code",
   "execution_count": 298,
   "metadata": {},
   "outputs": [],
   "source": [
    "#merging all cases and rates based on identical columns\n",
    "all_cases = cross.merge(melted_rates, how='left', indicator='Rate Check')\n",
    "#applying mask\n",
    "mask = all_cases['Rate Check'].eq('both')"
   ]
  },
  {
   "cell_type": "code",
   "execution_count": 299,
   "metadata": {},
   "outputs": [],
   "source": [
    "#Replacing mask\n",
    "all_cases['Rate Check'] = np.where(mask, 'Rate Match','FX Rate Mismatch')"
   ]
  },
  {
   "cell_type": "code",
   "execution_count": 300,
   "metadata": {},
   "outputs": [],
   "source": [
    "#Checking Realized Value\n",
    "all_cases['RV Check'] = all_cases['Value Realized'] >((all_cases['BCA(FC)']+all_cases['Foreign Bank Charges']+all_cases['Agent/Brokerage Commision'])*0.90)"
   ]
  },
  {
   "cell_type": "code",
   "execution_count": 301,
   "metadata": {},
   "outputs": [],
   "source": [
    "all_cases.to_excel('switch.xlsx',index=0)"
   ]
  },
  {
   "cell_type": "code",
   "execution_count": null,
   "metadata": {},
   "outputs": [],
   "source": []
  }
 ],
 "metadata": {
  "kernelspec": {
   "display_name": "Python 3",
   "language": "python",
   "name": "python3"
  },
  "language_info": {
   "codemirror_mode": {
    "name": "ipython",
    "version": 3
   },
   "file_extension": ".py",
   "mimetype": "text/x-python",
   "name": "python",
   "nbconvert_exporter": "python",
   "pygments_lexer": "ipython3",
   "version": "3.7.4"
  }
 },
 "nbformat": 4,
 "nbformat_minor": 2
}
